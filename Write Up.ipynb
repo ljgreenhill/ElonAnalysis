{
 "cells": [
  {
   "cell_type": "markdown",
   "metadata": {},
   "source": [
    "# Final Project\n",
    "Travis Zhang and Lauren Greenhill\n",
    "\n",
    "## Problem Statement\n",
    "Many prominent CEOs and leaders hold public social media accounts to convey their, and their activity on social media can oftentimes affect the reputation of him/her and the company he/she represents. Elon Musk, a leader known for his active presence on social media, particularly Twitter, has frequently written controversial Tweets that have affected Tesla’s stock.\n",
    "\n",
    "## Hypothesis\n",
    "We hypothesize that there is correlation between Elon’s Tweets and Tesla Stock.\n",
    "\n",
    "## Data Processing\n",
    "We could not find a dataset that fit exactly what we were looking for, so we decided to create our own using Tweepy, a Twitter API and yfinance, a python module for the deprecated Yahoo Finance API. One shortcoming of our project is the lack of data we were able to gather. The Twitter API limits users to apprximately 3500 tweets. The Yahoo Finance API only provides stock data by day.\n",
    "\n",
    "### Twitter Data\n",
    "From Twitter we were able to gather data on all of Elon Musk’s tweets from January 25, 2020 to November 22, 2020. For each tweet we logged the creation data, content of the tweet, the number of retweets, and the number of favorites. \n",
    "- Twitter data scraping code: https://github.com/ljgreenhill/ElonAnalysis/blob/main/twitterAPI.py\n",
    "- CSV of data: https://github.com/ljgreenhill/ElonAnalysis/blob/main/data/tweets.csv\n",
    "\n",
    "We then ran these tweets through a pretrained sentiment analyzer. \n",
    "- Sentiment analysis code: https://github.com/ljgreenhill/ElonAnalysis/blob/main/Sentiment%20Analysis.ipynb\n",
    "- CSV of data: https://github.com/ljgreenhill/ElonAnalysis/blob/main/data/sentiment.csv\n",
    "\n",
    "### Stock Data\n",
    "The stock data gathered from Yahoo Finance ranged from June 29, 2010 to November 20, 2020, and the data included Open prices, Close prices, Low prices, High prices, Volume, Dividends, and Stock Splits. For our project, because we were limited by the\n",
    "Twitter data, we had to restrict our stock data to the same dates. We calculated the change in prices per day when the market was open by subtracting the stock price when the market closed with the stock price when the market opened.\n",
    "- Code to pull stock data and combine with twitter data: https://github.com/ljgreenhill/ElonAnalysis/blob/main/Dataset%20Retrieval.ipynb\n",
    "- Combined CSV: https://github.com/ljgreenhill/ElonAnalysis/blob/main/data/elon.csv"
   ]
  },
  {
   "cell_type": "markdown",
   "metadata": {},
   "source": [
    "## Regression\n",
    "Inititally, we attempted to predict the change in stock price using regression models. \n",
    "\n",
    "### Setup"
   ]
  },
  {
   "cell_type": "code",
   "execution_count": 1,
   "metadata": {},
   "outputs": [
    {
     "data": {
      "text/html": [
       "<div>\n",
       "<style scoped>\n",
       "    .dataframe tbody tr th:only-of-type {\n",
       "        vertical-align: middle;\n",
       "    }\n",
       "\n",
       "    .dataframe tbody tr th {\n",
       "        vertical-align: top;\n",
       "    }\n",
       "\n",
       "    .dataframe thead th {\n",
       "        text-align: right;\n",
       "    }\n",
       "</style>\n",
       "<table border=\"1\" class=\"dataframe\">\n",
       "  <thead>\n",
       "    <tr style=\"text-align: right;\">\n",
       "      <th></th>\n",
       "      <th>Change In Price</th>\n",
       "      <th>Favorites</th>\n",
       "      <th>Retweets</th>\n",
       "      <th>Negative</th>\n",
       "      <th>Neutral</th>\n",
       "      <th>Positive</th>\n",
       "      <th>Compound</th>\n",
       "    </tr>\n",
       "  </thead>\n",
       "  <tbody>\n",
       "    <tr>\n",
       "      <th>2020-01-27</th>\n",
       "      <td>3.205994</td>\n",
       "      <td>6544.600000</td>\n",
       "      <td>814.000000</td>\n",
       "      <td>0.028</td>\n",
       "      <td>0.863</td>\n",
       "      <td>0.109</td>\n",
       "      <td>0.7959</td>\n",
       "    </tr>\n",
       "    <tr>\n",
       "      <th>2020-01-28</th>\n",
       "      <td>-0.318001</td>\n",
       "      <td>79576.500000</td>\n",
       "      <td>6452.666667</td>\n",
       "      <td>0.000</td>\n",
       "      <td>0.829</td>\n",
       "      <td>0.171</td>\n",
       "      <td>0.8718</td>\n",
       "    </tr>\n",
       "    <tr>\n",
       "      <th>2020-01-29</th>\n",
       "      <td>1.059998</td>\n",
       "      <td>35996.769231</td>\n",
       "      <td>4025.000000</td>\n",
       "      <td>0.027</td>\n",
       "      <td>0.755</td>\n",
       "      <td>0.218</td>\n",
       "      <td>0.9715</td>\n",
       "    </tr>\n",
       "    <tr>\n",
       "      <th>2020-01-30</th>\n",
       "      <td>1.678001</td>\n",
       "      <td>53946.166667</td>\n",
       "      <td>4608.000000</td>\n",
       "      <td>0.108</td>\n",
       "      <td>0.868</td>\n",
       "      <td>0.024</td>\n",
       "      <td>-0.5707</td>\n",
       "    </tr>\n",
       "    <tr>\n",
       "      <th>2020-01-31</th>\n",
       "      <td>2.113998</td>\n",
       "      <td>53814.944444</td>\n",
       "      <td>5062.500000</td>\n",
       "      <td>0.040</td>\n",
       "      <td>0.757</td>\n",
       "      <td>0.203</td>\n",
       "      <td>0.9657</td>\n",
       "    </tr>\n",
       "  </tbody>\n",
       "</table>\n",
       "</div>"
      ],
      "text/plain": [
       "            Change In Price     Favorites     Retweets  Negative  Neutral  \\\n",
       "2020-01-27         3.205994   6544.600000   814.000000     0.028    0.863   \n",
       "2020-01-28        -0.318001  79576.500000  6452.666667     0.000    0.829   \n",
       "2020-01-29         1.059998  35996.769231  4025.000000     0.027    0.755   \n",
       "2020-01-30         1.678001  53946.166667  4608.000000     0.108    0.868   \n",
       "2020-01-31         2.113998  53814.944444  5062.500000     0.040    0.757   \n",
       "\n",
       "            Positive  Compound  \n",
       "2020-01-27     0.109    0.7959  \n",
       "2020-01-28     0.171    0.8718  \n",
       "2020-01-29     0.218    0.9715  \n",
       "2020-01-30     0.024   -0.5707  \n",
       "2020-01-31     0.203    0.9657  "
      ]
     },
     "execution_count": 1,
     "metadata": {},
     "output_type": "execute_result"
    }
   ],
   "source": [
    "import numpy as np\n",
    "import pandas as pd\n",
    "from sklearn.linear_model import LinearRegression\n",
    "from sklearn.model_selection import train_test_split\n",
    "from matplotlib import pyplot as plt\n",
    "from sklearn.metrics import mean_squared_error\n",
    "\n",
    "data = pd.read_csv('data/sentiment.csv', index_col=0)\n",
    "data = data.drop(columns=['Text'])\n",
    "data.head()"
   ]
  },
  {
   "cell_type": "markdown",
   "metadata": {},
   "source": [
    "### Linear Regression Model\n",
    "We decided to start with a linear regression model. "
   ]
  },
  {
   "cell_type": "code",
   "execution_count": 2,
   "metadata": {},
   "outputs": [
    {
     "name": "stdout",
     "output_type": "stream",
     "text": [
      "96.12167769618084\n"
     ]
    }
   ],
   "source": [
    "model = LinearRegression()\n",
    "X = data[[\"Favorites\", \"Retweets\", \"Negative\", \"Positive\", \"Compound\"]]\n",
    "Y = data[\"Change In Price\"]\n",
    "x_train, x_test, y_train, y_test = train_test_split(X, Y, test_size=0.1)\n",
    "\n",
    "model.fit(x_train, y_train)\n",
    "\n",
    "predictions = model.predict(x_test)\n",
    "error = mean_squared_error(y_test, predictions) \n",
    "print(error)"
   ]
  },
  {
   "cell_type": "markdown",
   "metadata": {},
   "source": [
    "We then graphed this data in an attempt to determine if the model was over or underfitting. We found that it was underfitting."
   ]
  },
  {
   "cell_type": "code",
   "execution_count": 3,
   "metadata": {},
   "outputs": [
    {
     "data": {
      "image/png": "[encoded data removed]",
      "text/plain": [
       "<Figure size 432x288 with 1 Axes>"
      ]
     },
     "metadata": {
      "needs_background": "light"
     },
     "output_type": "display_data"
    }
   ],
   "source": [
    "plt.plot(data.index[:len(predictions)], predictions)\n",
    "plt.plot(data.index[:len(y_test)], y_test)\n",
    "plt.xticks(rotation=90)\n",
    "plt.legend([\"Predictions\",\"Actual Values\"])\n",
    "plt.show()"
   ]
  },
  {
   "cell_type": "markdown",
   "metadata": {},
   "source": [
    "### Random Forest Regressor\n",
    "We assumed that the Linear Regression model was underfitting because of a lack of data, we decided to try a Random Forest Regressor that included a bootstrap parameter."
   ]
  },
  {
   "cell_type": "code",
   "execution_count": 4,
   "metadata": {},
   "outputs": [
    {
     "name": "stdout",
     "output_type": "stream",
     "text": [
      "114.14753454891671\n"
     ]
    }
   ],
   "source": [
    "from sklearn.ensemble import RandomForestRegressor\n",
    "from sklearn.datasets import make_regression\n",
    "X = data[[\"Favorites\", \"Retweets\", \"Negative\", \"Neutral\", \"Positive\", \"Compound\"]]\n",
    "Y = data[\"Change In Price\"]\n",
    "x_train, x_test, y_train, y_test = train_test_split(X, Y, test_size=0.2)\n",
    "rf = RandomForestRegressor(n_estimators = 10000, random_state=0, bootstrap=True)\n",
    "rf.fit(x_train, y_train)\n",
    "predictions = rf.predict(x_test)\n",
    "error = mean_squared_error(y_test, predictions) \n",
    "print(error)"
   ]
  },
  {
   "cell_type": "markdown",
   "metadata": {},
   "source": [
    "Again, the model underfitted."
   ]
  },
  {
   "cell_type": "code",
   "execution_count": 6,
   "metadata": {},
   "outputs": [
    {
     "data": {
      "image/png": "[encoded data removed]",
      "text/plain": [
       "<Figure size 432x288 with 1 Axes>"
      ]
     },
     "metadata": {
      "needs_background": "light"
     },
     "output_type": "display_data"
    }
   ],
   "source": [
    "plt.plot(data.index[:len(predictions)], predictions)\n",
    "plt.plot(data.index[:len(y_test)], y_test)\n",
    "plt.xticks(rotation=90)\n",
    "plt.legend([\"Predictions\",\"Actual Values\"])\n",
    "plt.show()"
   ]
  },
  {
   "cell_type": "markdown",
   "metadata": {},
   "source": [
    "## Classification\n",
    "Due to the large error in the regression models, we decided to try predicting whether the stock price went up or down because we thought this was an easier problem."
   ]
  },
  {
   "cell_type": "markdown",
   "metadata": {},
   "source": [
    "### Setup"
   ]
  },
  {
   "cell_type": "code",
   "execution_count": 7,
   "metadata": {},
   "outputs": [
    {
     "data": {
      "text/html": [
       "<div>\n",
       "<style scoped>\n",
       "    .dataframe tbody tr th:only-of-type {\n",
       "        vertical-align: middle;\n",
       "    }\n",
       "\n",
       "    .dataframe tbody tr th {\n",
       "        vertical-align: top;\n",
       "    }\n",
       "\n",
       "    .dataframe thead th {\n",
       "        text-align: right;\n",
       "    }\n",
       "</style>\n",
       "<table border=\"1\" class=\"dataframe\">\n",
       "  <thead>\n",
       "    <tr style=\"text-align: right;\">\n",
       "      <th></th>\n",
       "      <th>Change In Price</th>\n",
       "      <th>Favorites</th>\n",
       "      <th>Retweets</th>\n",
       "      <th>Negative</th>\n",
       "      <th>Neutral</th>\n",
       "      <th>Positive</th>\n",
       "      <th>Compound</th>\n",
       "      <th>Change</th>\n",
       "      <th>Retweets*Neg</th>\n",
       "      <th>Retweets*Pos</th>\n",
       "    </tr>\n",
       "  </thead>\n",
       "  <tbody>\n",
       "    <tr>\n",
       "      <th>2020-01-27</th>\n",
       "      <td>3.205994</td>\n",
       "      <td>6544.600000</td>\n",
       "      <td>814.000000</td>\n",
       "      <td>0.028</td>\n",
       "      <td>0.863</td>\n",
       "      <td>0.109</td>\n",
       "      <td>0.7959</td>\n",
       "      <td>1</td>\n",
       "      <td>22.792</td>\n",
       "      <td>88.7260</td>\n",
       "    </tr>\n",
       "    <tr>\n",
       "      <th>2020-01-28</th>\n",
       "      <td>0.318001</td>\n",
       "      <td>79576.500000</td>\n",
       "      <td>6452.666667</td>\n",
       "      <td>0.000</td>\n",
       "      <td>0.829</td>\n",
       "      <td>0.171</td>\n",
       "      <td>0.8718</td>\n",
       "      <td>0</td>\n",
       "      <td>0.000</td>\n",
       "      <td>1103.4060</td>\n",
       "    </tr>\n",
       "    <tr>\n",
       "      <th>2020-01-29</th>\n",
       "      <td>1.059998</td>\n",
       "      <td>35996.769231</td>\n",
       "      <td>4025.000000</td>\n",
       "      <td>0.027</td>\n",
       "      <td>0.755</td>\n",
       "      <td>0.218</td>\n",
       "      <td>0.9715</td>\n",
       "      <td>1</td>\n",
       "      <td>108.675</td>\n",
       "      <td>877.4500</td>\n",
       "    </tr>\n",
       "    <tr>\n",
       "      <th>2020-01-30</th>\n",
       "      <td>1.678001</td>\n",
       "      <td>53946.166667</td>\n",
       "      <td>4608.000000</td>\n",
       "      <td>0.108</td>\n",
       "      <td>0.868</td>\n",
       "      <td>0.024</td>\n",
       "      <td>-0.5707</td>\n",
       "      <td>1</td>\n",
       "      <td>497.664</td>\n",
       "      <td>110.5920</td>\n",
       "    </tr>\n",
       "    <tr>\n",
       "      <th>2020-01-31</th>\n",
       "      <td>2.113998</td>\n",
       "      <td>53814.944444</td>\n",
       "      <td>5062.500000</td>\n",
       "      <td>0.040</td>\n",
       "      <td>0.757</td>\n",
       "      <td>0.203</td>\n",
       "      <td>0.9657</td>\n",
       "      <td>1</td>\n",
       "      <td>202.500</td>\n",
       "      <td>1027.6875</td>\n",
       "    </tr>\n",
       "  </tbody>\n",
       "</table>\n",
       "</div>"
      ],
      "text/plain": [
       "            Change In Price     Favorites     Retweets  Negative  Neutral  \\\n",
       "2020-01-27         3.205994   6544.600000   814.000000     0.028    0.863   \n",
       "2020-01-28         0.318001  79576.500000  6452.666667     0.000    0.829   \n",
       "2020-01-29         1.059998  35996.769231  4025.000000     0.027    0.755   \n",
       "2020-01-30         1.678001  53946.166667  4608.000000     0.108    0.868   \n",
       "2020-01-31         2.113998  53814.944444  5062.500000     0.040    0.757   \n",
       "\n",
       "            Positive  Compound  Change  Retweets*Neg  Retweets*Pos  \n",
       "2020-01-27     0.109    0.7959       1        22.792       88.7260  \n",
       "2020-01-28     0.171    0.8718       0         0.000     1103.4060  \n",
       "2020-01-29     0.218    0.9715       1       108.675      877.4500  \n",
       "2020-01-30     0.024   -0.5707       1       497.664      110.5920  \n",
       "2020-01-31     0.203    0.9657       1       202.500     1027.6875  "
      ]
     },
     "execution_count": 7,
     "metadata": {},
     "output_type": "execute_result"
    }
   ],
   "source": [
    "import numpy as np\n",
    "import pandas as pd\n",
    "from sklearn.model_selection import train_test_split\n",
    "from matplotlib import pyplot as plt\n",
    "from sklearn.neighbors import KNeighborsClassifier\n",
    "from sklearn.metrics import accuracy_score\n",
    "from sklearn.tree import DecisionTreeClassifier\n",
    "from sklearn import tree\n",
    "from sklearn import preprocessing\n",
    "\n",
    "data = pd.read_csv('data/sentiment.csv', index_col=0)\n",
    "data = data.drop(columns=['Text'])\n",
    "data[\"Change\"] = np.where(data[\"Change In Price\"]>0,1,0)\n",
    "data[\"Change In Price\"] = data[\"Change In Price\"].abs()\n",
    "data[\"Retweets*Neg\"] = data[\"Retweets\"]*data[\"Negative\"]\n",
    "data[\"Retweets*Pos\"] = data[\"Retweets\"]*data[\"Positive\"]\n",
    "data.head()"
   ]
  },
  {
   "cell_type": "markdown",
   "metadata": {},
   "source": [
    "### Normalization\n",
    "Based on advice we received in office hours, we decided to scale and center our data. We also experimented with removing the compound feature from the sentiment analysis and including two new features (the number of retweets multipled by the positive rating from the sentiment analysis and the number of retweets multipled by the negative rating from the sentiment analysis). We did this because the more polarizing a tweet is the more retweets it should get. These kinds of tweets should impact the stock price more."
   ]
  },
  {
   "cell_type": "code",
   "execution_count": 10,
   "metadata": {},
   "outputs": [
    {
     "name": "stdout",
     "output_type": "stream",
     "text": [
      "[[-0.22753503 -0.14847375 -0.29977882 -0.32016152 -0.07510093 -0.46178588]\n",
      " [ 0.39485523  0.10558221 -0.70972781  0.38502717 -0.07660067  1.45045092]\n",
      " [ 0.02346136 -0.00379882 -0.31441986  0.9196057  -0.06944973  1.02462073]\n",
      " ...\n",
      " [-0.15774485 -0.16225864 -0.46083021 -0.61588582 -0.07603236 -0.54952747]\n",
      " [-0.26031564 -0.18056593 -0.372984    1.20395598 -0.07644672 -0.58241027]\n",
      " [-0.22954115 -0.17562752 -0.28513778  0.43052322 -0.0761974  -0.55929863]]\n"
     ]
    }
   ],
   "source": [
    "X = data[[\"Favorites\", \"Retweets\", \"Negative\", \"Positive\", \"Retweets*Neg\", \"Retweets*Pos\"]]\n",
    "Y = data[\"Change\"]\n",
    "scaler = preprocessing.StandardScaler().fit(X)\n",
    "X = scaler.transform(X)\n",
    "x_train, x_test, y_train, y_test = train_test_split(X, Y, test_size=0.33)\n",
    "print(X)"
   ]
  },
  {
   "cell_type": "markdown",
   "metadata": {},
   "source": [
    "### KNeighbors Classifer\n",
    "First we tried Knearest neighbors with little success."
   ]
  },
  {
   "cell_type": "code",
   "execution_count": 15,
   "metadata": {},
   "outputs": [
    {
     "data": {
      "text/plain": [
       "0.47761194029850745"
      ]
     },
     "execution_count": 15,
     "metadata": {},
     "output_type": "execute_result"
    }
   ],
   "source": [
    "knn = KNeighborsClassifier()\n",
    "knn.fit(x_train, y_train)\n",
    "knn.score(x_test, y_test)"
   ]
  },
  {
   "cell_type": "markdown",
   "metadata": {},
   "source": [
    "### Decision Tree Classifier\n",
    "After that we attempted a decision tree classifier, also with little success."
   ]
  },
  {
   "cell_type": "code",
   "execution_count": 16,
   "metadata": {},
   "outputs": [
    {
     "data": {
      "text/plain": [
       "0.5223880597014925"
      ]
     },
     "execution_count": 16,
     "metadata": {},
     "output_type": "execute_result"
    }
   ],
   "source": [
    "# Creates the Decision Tree Classifier\n",
    "model=tree.DecisionTreeClassifier(max_depth=2)\n",
    "\n",
    "#TODO: train the model\n",
    "model.fit(x_train,y_train)\n",
    "model.score(x_test, y_test)"
   ]
  },
  {
   "cell_type": "markdown",
   "metadata": {},
   "source": [
    "### Logistic Regression\n",
    "Based on advice we received in office hours, we used the Logistic Regression model decision function to see which features were having the greatest impact on the model in an attempt to see which ones should be removed/weighted more heavily."
   ]
  },
  {
   "cell_type": "code",
   "execution_count": 17,
   "metadata": {},
   "outputs": [
    {
     "name": "stdout",
     "output_type": "stream",
     "text": [
      "[-5.26649864e-03 -5.83229533e-01 -3.59745290e-01 -1.17786136e-01\n",
      " -4.55374810e-01 -2.21238009e-02 -1.92528471e-01 -1.03104201e-01\n",
      " -1.10673196e-01 -7.93404525e-02 -4.15266658e-03 -2.27776525e-01\n",
      " -2.10896582e-01 -1.15411626e-01 -3.73906772e-02 -2.11807756e-01\n",
      "  5.87361540e-02 -9.77767698e-01 -3.98049734e-01 -4.23196670e-02\n",
      "  2.01899920e-03  1.08177986e-02 -7.45325610e-02 -7.11725298e-01\n",
      " -5.58144938e-02  5.54546175e-02  3.29041987e+00  9.50459819e-02\n",
      " -4.08948907e-01 -3.08185117e-01 -1.43186045e-02  1.05006768e-02\n",
      " -5.15880720e-02 -2.93080649e-02 -1.60236550e-02 -2.39537757e-02\n",
      "  1.29305135e-02 -1.42213651e-01 -6.04647953e-03  1.49206566e-02\n",
      " -1.06496461e-01 -1.49570881e-01 -3.29278204e-01 -3.76472455e-02\n",
      "  1.77533537e-02  8.88653653e-03 -4.59005670e-02 -4.83817385e-02\n",
      " -1.34276507e-02 -6.61563443e-02 -4.73298957e-01 -1.13877811e-01\n",
      " -3.71382148e-02 -3.75716030e-02  3.87559015e-02 -4.54425198e-02\n",
      " -6.82231401e-02 -8.33166969e-02 -4.96927525e-02  5.07966262e-02\n",
      " -5.79958044e-02  8.09768007e-02 -8.34421524e-01 -2.43198272e-02\n",
      " -2.27334452e-01 -5.19761913e-03 -1.54238499e-01 -3.07783282e-01\n",
      "  5.21585206e-02 -1.20392191e-02 -3.35384873e-01 -2.71612434e-01\n",
      " -4.61306461e-01 -4.24596150e-01 -2.30365484e-02 -1.11769265e-01\n",
      " -1.14776589e+00 -3.14228229e-01  1.98963551e-02 -4.36720477e-01\n",
      " -3.26996840e-01 -6.63724742e-01 -4.42135634e-02 -1.24432850e-01\n",
      " -1.30556026e+00 -1.03561428e-01  6.99471101e-02 -8.20272202e-02\n",
      " -1.71459309e-01 -8.17546047e-02 -3.40614062e-01 -2.64357093e-03\n",
      " -7.80711281e-03 -2.51087671e-02  1.40614375e-03 -4.71473183e-01\n",
      " -4.95983732e-03  4.41823762e-02 -9.91448641e-03 -1.26470042e-01\n",
      " -9.05447499e-01 -1.89380643e-01 -1.13878485e-01 -5.55567128e-02\n",
      " -1.06259806e-01 -8.78216294e-02 -7.21401263e-02  4.79847313e-02\n",
      " -1.03220500e-01 -3.44534904e-03  1.41420100e-02  1.14111419e-02\n",
      " -8.16445416e-02  5.09639566e-02 -7.56794566e-02 -8.07823043e-02\n",
      " -4.25873823e-01 -7.61136368e-03 -6.69698012e-01 -3.55901050e-01\n",
      "  6.22147299e-02 -1.13268599e-02 -1.89735875e-01 -4.14664449e-01\n",
      " -2.64703419e-02 -3.54114823e-04 -1.18720086e-01 -2.40924705e-01\n",
      " -6.16597152e-02 -3.70853913e-02 -5.34473855e-02 -4.24396087e-02\n",
      " -8.27879402e-02 -7.48817992e-02 -2.26667183e-01  3.90612220e-03\n",
      " -3.01172383e-01 -3.30547222e-01  5.74367094e-02  2.29019696e-03\n",
      " -5.65064870e-02 -1.20982641e-01 -1.23123084e-01 -4.51003663e-02\n",
      "  9.44557459e-02 -3.04443734e-02 -2.43056469e-01 -1.85027990e-01\n",
      " -4.41438920e-01 -5.66863350e-02 -1.09683872e-01 -7.12105005e-01\n",
      " -4.07742462e-02 -3.53394984e-01 -2.98029611e-02 -2.31486095e-01\n",
      " -1.45712142e+00 -1.24693959e-01  4.05530996e-02 -2.09393274e-01\n",
      " -8.27005297e-02 -4.47368413e-02  7.06670212e-03  6.72198290e-02\n",
      " -1.60766712e-01 -3.21647662e-02 -3.64751325e-02 -1.18172858e-01\n",
      " -1.65408268e-02  2.85342136e-02 -6.03317733e-02  2.23583694e-02\n",
      "  2.26693984e-02 -1.11388433e-01 -2.12207527e-01  7.61088599e-02\n",
      " -5.01318966e-02  2.81760426e-02 -2.02260270e-01  1.78801183e-02\n",
      " -7.01750155e-03  2.55591500e-02 -5.12142416e-02 -3.28292499e-02\n",
      " -1.74944120e-01 -1.16722210e-01 -9.73251556e-02 -1.70324792e-02\n",
      " -2.18472314e-02  5.13986378e-02 -6.80754645e-02 -3.42156252e-01\n",
      " -1.30229900e-01 -3.30732330e-01 -1.22426733e-01 -2.91979795e-01\n",
      " -2.93324381e-01 -1.95212828e-01 -3.23257742e-02 -2.31877765e-02\n",
      " -4.26917047e-02 -2.69780575e-02]\n"
     ]
    },
    {
     "data": {
      "text/plain": [
       "0.4925373134328358"
      ]
     },
     "execution_count": 17,
     "metadata": {},
     "output_type": "execute_result"
    }
   ],
   "source": [
    "from sklearn.linear_model import LogisticRegression\n",
    "clf = LogisticRegression(random_state=0).fit(x_train, y_train)\n",
    "print(clf.decision_function(X))\n",
    "clf.score(x_test, y_test)"
   ]
  },
  {
   "cell_type": "markdown",
   "metadata": {},
   "source": [
    "## Conclusion\n",
    "Ultimately, we were unable to prove a correlation between Elons' tweets and Tesla stock price. However, we believe this is due to a view issues in the way we process the data. The primary issue is the lack of data. The secondary issue is that because we look at stock price by day and therefore tweets by day, if Elon tweets a negative tweet and a positive tweet in the same day the sentiment analysis for each tweet cancels out. We found this to be the case most days."
   ]
  }
 ],
 "metadata": {
  "kernelspec": {
   "display_name": "Python 3",
   "language": "python",
   "name": "python3"
  },
  "language_info": {
   "codemirror_mode": {
    "name": "ipython",
    "version": 3
   },
   "file_extension": ".py",
   "mimetype": "text/x-python",
   "name": "python",
   "nbconvert_exporter": "python",
   "pygments_lexer": "ipython3",
   "version": "3.7.6"
  }
 },
 "nbformat": 4,
 "nbformat_minor": 4
}
