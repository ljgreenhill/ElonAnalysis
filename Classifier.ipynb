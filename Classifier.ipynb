{
 "cells": [
  {
   "cell_type": "code",
   "execution_count": 48,
   "metadata": {},
   "outputs": [
    {
     "data": {
      "text/html": [
       "<div>\n",
       "<style scoped>\n",
       "    .dataframe tbody tr th:only-of-type {\n",
       "        vertical-align: middle;\n",
       "    }\n",
       "\n",
       "    .dataframe tbody tr th {\n",
       "        vertical-align: top;\n",
       "    }\n",
       "\n",
       "    .dataframe thead th {\n",
       "        text-align: right;\n",
       "    }\n",
       "</style>\n",
       "<table border=\"1\" class=\"dataframe\">\n",
       "  <thead>\n",
       "    <tr style=\"text-align: right;\">\n",
       "      <th></th>\n",
       "      <th>Change In Price</th>\n",
       "      <th>Favorites</th>\n",
       "      <th>Retweets</th>\n",
       "      <th>Negative</th>\n",
       "      <th>Neutral</th>\n",
       "      <th>Positive</th>\n",
       "      <th>Compound</th>\n",
       "      <th>Change</th>\n",
       "    </tr>\n",
       "  </thead>\n",
       "  <tbody>\n",
       "    <tr>\n",
       "      <th>2020-01-27</th>\n",
       "      <td>3.205994</td>\n",
       "      <td>6544.600000</td>\n",
       "      <td>814.000000</td>\n",
       "      <td>0.028</td>\n",
       "      <td>0.863</td>\n",
       "      <td>0.109</td>\n",
       "      <td>0.7959</td>\n",
       "      <td>1</td>\n",
       "    </tr>\n",
       "    <tr>\n",
       "      <th>2020-01-28</th>\n",
       "      <td>0.318001</td>\n",
       "      <td>79576.500000</td>\n",
       "      <td>6452.666667</td>\n",
       "      <td>0.000</td>\n",
       "      <td>0.829</td>\n",
       "      <td>0.171</td>\n",
       "      <td>0.8718</td>\n",
       "      <td>0</td>\n",
       "    </tr>\n",
       "    <tr>\n",
       "      <th>2020-01-29</th>\n",
       "      <td>1.059998</td>\n",
       "      <td>35996.769231</td>\n",
       "      <td>4025.000000</td>\n",
       "      <td>0.027</td>\n",
       "      <td>0.755</td>\n",
       "      <td>0.218</td>\n",
       "      <td>0.9715</td>\n",
       "      <td>1</td>\n",
       "    </tr>\n",
       "    <tr>\n",
       "      <th>2020-01-30</th>\n",
       "      <td>1.678001</td>\n",
       "      <td>53946.166667</td>\n",
       "      <td>4608.000000</td>\n",
       "      <td>0.108</td>\n",
       "      <td>0.868</td>\n",
       "      <td>0.024</td>\n",
       "      <td>-0.5707</td>\n",
       "      <td>1</td>\n",
       "    </tr>\n",
       "    <tr>\n",
       "      <th>2020-01-31</th>\n",
       "      <td>2.113998</td>\n",
       "      <td>53814.944444</td>\n",
       "      <td>5062.500000</td>\n",
       "      <td>0.040</td>\n",
       "      <td>0.757</td>\n",
       "      <td>0.203</td>\n",
       "      <td>0.9657</td>\n",
       "      <td>1</td>\n",
       "    </tr>\n",
       "  </tbody>\n",
       "</table>\n",
       "</div>"
      ],
      "text/plain": [
       "            Change In Price     Favorites     Retweets  Negative  Neutral  \\\n",
       "2020-01-27         3.205994   6544.600000   814.000000     0.028    0.863   \n",
       "2020-01-28         0.318001  79576.500000  6452.666667     0.000    0.829   \n",
       "2020-01-29         1.059998  35996.769231  4025.000000     0.027    0.755   \n",
       "2020-01-30         1.678001  53946.166667  4608.000000     0.108    0.868   \n",
       "2020-01-31         2.113998  53814.944444  5062.500000     0.040    0.757   \n",
       "\n",
       "            Positive  Compound  Change  \n",
       "2020-01-27     0.109    0.7959       1  \n",
       "2020-01-28     0.171    0.8718       0  \n",
       "2020-01-29     0.218    0.9715       1  \n",
       "2020-01-30     0.024   -0.5707       1  \n",
       "2020-01-31     0.203    0.9657       1  "
      ]
     },
     "execution_count": 48,
     "metadata": {},
     "output_type": "execute_result"
    }
   ],
   "source": [
    "import numpy as np\n",
    "import pandas as pd\n",
    "from sklearn.model_selection import train_test_split\n",
    "from matplotlib import pyplot as plt\n",
    "from sklearn.neighbors import KNeighborsClassifier\n",
    "from sklearn.metrics import accuracy_score\n",
    "from sklearn.tree import DecisionTreeClassifier\n",
    "from sklearn import tree\n",
    "\n",
    "data = pd.read_csv('data/sentiment.csv', index_col=0)\n",
    "data = data.drop(columns=['Text'])\n",
    "data[\"Change\"] = np.where(data[\"Change In Price\"]>0,1,0)\n",
    "data[\"Change In Price\"] = data[\"Change In Price\"].abs()\n",
    "\n",
    "data.head()"
   ]
  },
  {
   "cell_type": "code",
   "execution_count": 60,
   "metadata": {},
   "outputs": [
    {
     "name": "stdout",
     "output_type": "stream",
     "text": [
      "Train Accuracy:  0.6888888888888889\n",
      "Test Accuracy:  0.40298507462686567\n"
     ]
    }
   ],
   "source": [
    "X = data[[\"Favorites\", \"Retweets\", \"Negative\", \"Neutral\", \"Positive\", \"Compound\", \"Change In Price\"]]\n",
    "Y = data[\"Change\"]\n",
    "x_train, x_test, y_train, y_test = train_test_split(X, Y, test_size=0.33)\n",
    "\n",
    "#Knearest neighbors\n",
    "knn = KNeighborsClassifier()\n",
    "knn.fit(x_train, y_train)\n",
    "knn_pred_train = knn.predict(x_train)\n",
    "knn_pred_test = knn.predict(x_test)\n",
    "print(\"Train Accuracy: \", accuracy_score(y_train, knn_pred_train))\n",
    "print(\"Test Accuracy: \", accuracy_score(y_test, knn_pred_test))\n"
   ]
  },
  {
   "cell_type": "code",
   "execution_count": 61,
   "metadata": {},
   "outputs": [
    {
     "name": "stdout",
     "output_type": "stream",
     "text": [
      "Train Accuracy:  0.6370370370370371\n",
      "Test Accuracy:  0.47761194029850745\n"
     ]
    }
   ],
   "source": [
    "# Creates the Decision Tree Classifier\n",
    "model=tree.DecisionTreeClassifier(max_depth=2)\n",
    "\n",
    "#TODO: train the model\n",
    "model.fit(x_train,y_train)\n",
    "\n",
    "#TODO: Calculate the training and testing accuracy\n",
    "dtree_pred_train = model.predict(x_train)\n",
    "dtree_pred_test = model.predict(x_test) \n",
    "print(\"Train Accuracy: \", accuracy_score(y_train, dtree_pred_train))\n",
    "print(\"Test Accuracy: \", accuracy_score(y_test, dtree_pred_test))"
   ]
  },
  {
   "cell_type": "code",
   "execution_count": null,
   "metadata": {},
   "outputs": [],
   "source": []
  }
 ],
 "metadata": {
  "kernelspec": {
   "display_name": "Python 3",
   "language": "python",
   "name": "python3"
  },
  "language_info": {
   "codemirror_mode": {
    "name": "ipython",
    "version": 3
   },
   "file_extension": ".py",
   "mimetype": "text/x-python",
   "name": "python",
   "nbconvert_exporter": "python",
   "pygments_lexer": "ipython3",
   "version": "3.7.6"
  }
 },
 "nbformat": 4,
 "nbformat_minor": 4
}
